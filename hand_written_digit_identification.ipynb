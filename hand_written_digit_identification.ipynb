{
 "cells": [
  {
   "cell_type": "markdown",
   "metadata": {},
   "source": [
    "#  Load Mnist dataset.\n",
    "\n"
   ]
  },
  {
   "cell_type": "code",
   "execution_count": 1,
   "metadata": {},
   "outputs": [
    {
     "name": "stdout",
     "output_type": "stream",
     "text": [
      "Collecting python-mnist\n",
      "  Downloading https://files.pythonhosted.org/packages/cd/e5/05e37dcf2ed8966a618cd348721e68a2bfad302438344acc16ed94e349fd/python-mnist-0.5.tar.gz\n",
      "Building wheels for collected packages: python-mnist\n",
      "  Running setup.py bdist_wheel for python-mnist ... \u001b[?25ldone\n",
      "\u001b[?25h  Stored in directory: /home/nbuser/.cache/pip/wheels/e3/67/aa/bea4c3dc84f590c0dabb8c00317b6b7f8e6bd43b095d7679d5\n",
      "Successfully built python-mnist\n",
      "Installing collected packages: python-mnist\n",
      "Successfully installed python-mnist-0.5\n",
      "\u001b[33mYou are using pip version 9.0.3, however version 10.0.1 is available.\n",
      "You should consider upgrading via the 'pip install --upgrade pip' command.\u001b[0m\n"
     ]
    }
   ],
   "source": [
    "!pip install python-mnist"
   ]
  },
  {
   "cell_type": "code",
   "execution_count": 2,
   "metadata": {},
   "outputs": [],
   "source": [
    "import numpy as np\n",
    "import matplotlib.pyplot as plt\n",
    "from mnist import MNIST\n",
    "%matplotlib inline"
   ]
  },
  {
   "cell_type": "markdown",
   "metadata": {},
   "source": [
    "## Import the dataset"
   ]
  },
  {
   "cell_type": "code",
   "execution_count": 3,
   "metadata": {},
   "outputs": [],
   "source": [
    "# Load Train and test images and labels in different objects\n",
    "mndata = MNIST('../../data')\n",
    "train_images, train_labels = mndata.load_training()\n",
    "test_images, test_labels = mndata.load_testing()"
   ]
  },
  {
   "cell_type": "markdown",
   "metadata": {},
   "source": [
    "There are 55k examples in train, and 10k in eval. You may wish to limit the size to experiment faster. "
   ]
  },
  {
   "cell_type": "code",
   "execution_count": 4,
   "metadata": {},
   "outputs": [],
   "source": [
    "# Limit the number of training data by using max_examples.\n",
    "max_examples = 20000\n",
    "train_data = np.asarray(train_images[:max_examples], dtype=np.float)\n",
    "train_labels = np.asarray(train_labels[:max_examples], dtype=np.int32)\n",
    "\n",
    "test_data = np.asarray(test_images, dtype=np.float)\n",
    "test_labels = np.asarray(test_labels, dtype=np.int32)\n",
    "\n"
   ]
  },
  {
   "cell_type": "code",
   "execution_count": 5,
   "metadata": {},
   "outputs": [],
   "source": [
    "# Display using 0,1 matrix.\n",
    "def display_matrix(obj,d):\n",
    "    img = obj[d].reshape(28,28)\n",
    "    for i in range(28):\n",
    "        print('')\n",
    "        for j in range(28):\n",
    "            if img[i][j] > 0:\n",
    "                print(1,end=\"\")\n",
    "            else:\n",
    "                print(0,end=\"\")"
   ]
  },
  {
   "cell_type": "code",
   "execution_count": 6,
   "metadata": {},
   "outputs": [
    {
     "name": "stdout",
     "output_type": "stream",
     "text": [
      "\n",
      "0000000000000000000000000000\n",
      "0000000000000000000000000000\n",
      "0000000000000000000000000000\n",
      "0000000000000000000000000000\n",
      "0000000000000000000000000000\n",
      "0000000000000000000000000000\n",
      "0000000000000000000000000000\n",
      "0000001111110000000000000000\n",
      "0000001111111111111111000000\n",
      "0000001111111111111111000000\n",
      "0000000000011111111111000000\n",
      "0000000000000000001111000000\n",
      "0000000000000000011110000000\n",
      "0000000000000000011110000000\n",
      "0000000000000000111100000000\n",
      "0000000000000000111100000000\n",
      "0000000000000001111000000000\n",
      "0000000000000001110000000000\n",
      "0000000000000011110000000000\n",
      "0000000000000111100000000000\n",
      "0000000000001111100000000000\n",
      "0000000000001111000000000000\n",
      "0000000000011111000000000000\n",
      "0000000000011110000000000000\n",
      "0000000000111110000000000000\n",
      "0000000000111110000000000000\n",
      "0000000000111100000000000000\n",
      "0000000000000000000000000000"
     ]
    }
   ],
   "source": [
    "display_matrix(test_data,0)"
   ]
  },
  {
   "cell_type": "code",
   "execution_count": 7,
   "metadata": {},
   "outputs": [],
   "source": [
    "# Display using pixel \n",
    "def display(data,label,i):\n",
    "    img = data[i]\n",
    "    plt.title('Example %d. Label: %d' % (i, label[i]))\n",
    "    plt.imshow(img.reshape((28,28)), cmap=plt.cm.gray_r)    "
   ]
  },
  {
   "cell_type": "code",
   "execution_count": 33,
   "metadata": {},
   "outputs": [
    {
     "data": {
      "image/png": "[encoded data removed]",
      "text/plain": [
       "<matplotlib.figure.Figure at 0x7f66ded4fa90>"
      ]
     },
     "metadata": {},
     "output_type": "display_data"
    }
   ],
   "source": [
    "display(test_data,test_labels,209)"
   ]
  },
  {
   "cell_type": "code",
   "execution_count": 9,
   "metadata": {},
   "outputs": [],
   "source": [
    "# Create a dictionary of the digits (0-9), add each instance of the digit vector in corresponsing \n",
    "# value of the digit.\n",
    "# data = { 0:[[<784 pixels of first instance of 0>],[....]....[]],\n",
    "#           1:[[<784 pixels of first instance of 1>],[....]....[]],\n",
    "#              :\n",
    "#              :\n",
    "#               9:[[<784 pixels of first instance of 9>],[....]....[]],\n",
    "#       }\n",
    "\n",
    "data = {}\n",
    "for i in range(len(train_labels)):\n",
    "    key = train_labels[i]\n",
    "    if key in data:\n",
    "        data[key].append(train_data[i])\n",
    "    else:\n",
    "        data[key]=[train_data[i]]\n",
    "# Create a dictionary of mean and variance of each of the pixels of the digits ( 0 - 9)   \n",
    "mean_var_prior = {}\n",
    "for key in data:\n",
    "    mean_var_prior[key] = [np.mean(data[key],axis=0)]\n",
    "    mean_var_prior[key].append(np.std(data[key],axis=0))\n",
    "    mean_var_prior[key].append(len(data[key])/len(train_labels))\n",
    "    "
   ]
  },
  {
   "cell_type": "code",
   "execution_count": 10,
   "metadata": {},
   "outputs": [],
   "source": [
    "# create a function to derive the pdf using mean and variance. \n",
    "# Return 1.0 in case of 0.0 mean or standard deviation.\n",
    "def pdf(x,mean,std):\n",
    "    ret = 0.0\n",
    "    if std != 0.0 and mean != 0.0:\n",
    "        ret =  (np.exp(- ((x - mean)**2 / (2 * std**2)))) / (np.sqrt(2 * np.pi) * std)\n",
    "    if ret == 0.0:\n",
    "        return 1.0\n",
    "    else:\n",
    "        return ret\n",
    "    "
   ]
  },
  {
   "cell_type": "code",
   "execution_count": 36,
   "metadata": {},
   "outputs": [
    {
     "name": "stdout",
     "output_type": "stream",
     "text": [
      "Test data is : 7, Predicted data is : 9\n",
      "Test data is : 2, Predicted data is : 2\n",
      "Test data is : 1, Predicted data is : 1\n",
      "Test data is : 0, Predicted data is : 0\n",
      "Test data is : 4, Predicted data is : 5\n",
      "Test data is : 1, Predicted data is : 1\n",
      "Test data is : 4, Predicted data is : 5\n",
      "Test data is : 9, Predicted data is : 9\n",
      "Test data is : 5, Predicted data is : 5\n",
      "Test data is : 9, Predicted data is : 9\n",
      "Test data is : 0, Predicted data is : 0\n",
      "Test data is : 6, Predicted data is : 6\n",
      "Test data is : 9, Predicted data is : 9\n",
      "Test data is : 0, Predicted data is : 5\n",
      "Test data is : 1, Predicted data is : 1\n",
      "Test data is : 5, Predicted data is : 5\n",
      "Test data is : 9, Predicted data is : 9\n",
      "Test data is : 7, Predicted data is : 7\n",
      "Test data is : 3, Predicted data is : 2\n",
      "Test data is : 4, Predicted data is : 5\n",
      "Test data is : 9, Predicted data is : 5\n",
      "Test data is : 6, Predicted data is : 6\n",
      "Test data is : 6, Predicted data is : 6\n",
      "Test data is : 5, Predicted data is : 5\n",
      "Test data is : 4, Predicted data is : 5\n",
      "Test data is : 0, Predicted data is : 0\n",
      "Test data is : 7, Predicted data is : 7\n",
      "Test data is : 4, Predicted data is : 5\n",
      "Test data is : 0, Predicted data is : 5\n",
      "Test data is : 1, Predicted data is : 1\n",
      "Test data is : 3, Predicted data is : 5\n",
      "Test data is : 1, Predicted data is : 1\n",
      "Test data is : 3, Predicted data is : 5\n",
      "Test data is : 4, Predicted data is : 0\n",
      "Test data is : 7, Predicted data is : 5\n",
      "Test data is : 2, Predicted data is : 5\n",
      "Test data is : 7, Predicted data is : 7\n",
      "Test data is : 1, Predicted data is : 1\n",
      "Test data is : 2, Predicted data is : 5\n",
      "Test data is : 1, Predicted data is : 1\n",
      "Test data is : 1, Predicted data is : 1\n",
      "Test data is : 7, Predicted data is : 9\n",
      "Test data is : 4, Predicted data is : 5\n",
      "Test data is : 2, Predicted data is : 5\n",
      "Test data is : 3, Predicted data is : 5\n",
      "Test data is : 5, Predicted data is : 5\n",
      "Test data is : 1, Predicted data is : 5\n",
      "Test data is : 2, Predicted data is : 6\n",
      "Test data is : 4, Predicted data is : 9\n",
      "Test data is : 4, Predicted data is : 5\n",
      "Test data is : 6, Predicted data is : 6\n",
      "Test data is : 3, Predicted data is : 3\n",
      "Test data is : 5, Predicted data is : 5\n",
      "Test data is : 5, Predicted data is : 5\n",
      "Test data is : 6, Predicted data is : 6\n",
      "Test data is : 0, Predicted data is : 5\n",
      "Test data is : 4, Predicted data is : 5\n",
      "Test data is : 1, Predicted data is : 1\n",
      "Test data is : 9, Predicted data is : 9\n",
      "Test data is : 5, Predicted data is : 5\n",
      "Test data is : 7, Predicted data is : 7\n",
      "Test data is : 8, Predicted data is : 5\n",
      "Test data is : 9, Predicted data is : 5\n",
      "Test data is : 3, Predicted data is : 5\n",
      "Test data is : 7, Predicted data is : 7\n",
      "Test data is : 4, Predicted data is : 5\n",
      "Test data is : 6, Predicted data is : 6\n",
      "Test data is : 4, Predicted data is : 4\n",
      "Test data is : 3, Predicted data is : 5\n",
      "Test data is : 0, Predicted data is : 0\n",
      "Test data is : 7, Predicted data is : 7\n",
      "Test data is : 0, Predicted data is : 0\n",
      "Test data is : 2, Predicted data is : 5\n",
      "Test data is : 9, Predicted data is : 5\n",
      "Test data is : 1, Predicted data is : 1\n",
      "Test data is : 7, Predicted data is : 7\n",
      "Test data is : 3, Predicted data is : 5\n",
      "Test data is : 2, Predicted data is : 2\n",
      "Test data is : 9, Predicted data is : 5\n",
      "Test data is : 7, Predicted data is : 7\n",
      "Test data is : 7, Predicted data is : 9\n",
      "Test data is : 6, Predicted data is : 6\n",
      "Test data is : 2, Predicted data is : 2\n",
      "Test data is : 7, Predicted data is : 9\n",
      "Test data is : 8, Predicted data is : 5\n",
      "Test data is : 4, Predicted data is : 5\n",
      "Test data is : 7, Predicted data is : 9\n",
      "Test data is : 3, Predicted data is : 5\n",
      "Test data is : 6, Predicted data is : 6\n",
      "Test data is : 1, Predicted data is : 1\n",
      "Test data is : 3, Predicted data is : 5\n",
      "Test data is : 6, Predicted data is : 6\n",
      "Test data is : 9, Predicted data is : 5\n",
      "Test data is : 3, Predicted data is : 5\n",
      "Test data is : 1, Predicted data is : 1\n",
      "Test data is : 4, Predicted data is : 5\n",
      "Test data is : 1, Predicted data is : 5\n",
      "Test data is : 7, Predicted data is : 8\n",
      "Test data is : 6, Predicted data is : 6\n",
      "Test data is : 9, Predicted data is : 9\n",
      "0.53\n"
     ]
    }
   ],
   "source": [
    "count = 0\n",
    "limit = 100\n",
    "for index in range(limit):\n",
    "    pro = {}\n",
    "    num = []\n",
    "    # Interate over the digits.\n",
    "    for i in range(10):\n",
    "        p  = 0\n",
    "        # Interate over the pixels, pdf values are converted to respective log for ease of comparision\n",
    "        # the pdf values are between 0 to 1, which is difficult to compare, so it is \n",
    "        # scaled into log values.\n",
    "        for j in range(784):\n",
    "            p  = p + np.log(pdf(test_data[index][j],mean_var_prior[i][0][j],mean_var_prior[i][1][j]))\n",
    "        pro[i] = p * mean_var_prior[i][2]\n",
    "    num = sorted(pro.items(), key=lambda value: value[1])\n",
    "    print(\"Test data is :\",test_labels[index],end=\", \")\n",
    "    print(\"Predicted data is :\",num[-1][0])\n",
    "    if test_labels[index] == num[-1][0]:\n",
    "        count = count + 1\n",
    "        \n",
    "print(count/limit)\n"
   ]
  }
 ],
 "metadata": {
  "kernelspec": {
   "display_name": "Python 3",
   "language": "python",
   "name": "python3"
  },
  "language_info": {
   "codemirror_mode": {
    "name": "ipython",
    "version": 3
   },
   "file_extension": ".py",
   "mimetype": "text/x-python",
   "name": "python",
   "nbconvert_exporter": "python",
   "pygments_lexer": "ipython3",
   "version": "3.5.4"
  }
 },
 "nbformat": 4,
 "nbformat_minor": 1
}
